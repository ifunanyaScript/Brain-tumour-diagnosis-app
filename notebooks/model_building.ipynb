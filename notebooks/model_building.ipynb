{
 "cells": [
  {
   "cell_type": "markdown",
   "id": "7a458d97",
   "metadata": {},
   "source": [
    "# Model building"
   ]
  },
  {
   "cell_type": "markdown",
   "id": "056287f3",
   "metadata": {},
   "source": [
    "There are several top notch deep learning frameworks that would suffice for this task; but in this case we'll be using __Tensorflow__ from __Google__.  "
   ]
  },
  {
   "cell_type": "code",
   "execution_count": 1,
   "id": "97b13d7a",
   "metadata": {},
   "outputs": [],
   "source": [
    "# Import necessary packages.\n",
    "import tensorflow as tf\n",
    "from tensorflow.keras import layers, models\n",
    "\n",
    "# Important constants.\n",
    "IMAGE_SIZE = 256\n",
    "BATCH_SIZE = 32\n",
    "CHANNELS = 3\n",
    "EPOCHS = 100"
   ]
  },
  {
   "cell_type": "code",
   "execution_count": 2,
   "id": "3189b774",
   "metadata": {},
   "outputs": [
    {
     "name": "stdout",
     "output_type": "stream",
     "text": [
      "Found 3000 files belonging to 2 classes.\n"
     ]
    }
   ],
   "source": [
    "# Load the dataset with the Tensorflow data pipeline.\n",
    "dataset = tf.keras.preprocessing.image_dataset_from_directory(\n",
    "    r\"C:\\Users\\ifunanyaScript\\Everything\\BrainTumour_DiagnosisApp\\data\\clean_dataset\",\n",
    "    shuffle = True,\n",
    "    image_size = (IMAGE_SIZE, IMAGE_SIZE),\n",
    "    batch_size = (BATCH_SIZE),\n",
    ")"
   ]
  },
  {
   "cell_type": "markdown",
   "id": "e7210f5d",
   "metadata": {},
   "source": [
    "When one wants to train a model with a particular dataset, the normal practice is to split said dataset into separate chunks; particularly a training chunk and testing chunk.  \n",
    "Most times ML folks use __scikit-learn's__ ___train_test_split___. In this case, we'll use the _take__ attribute "
   ]
  },
  {
   "cell_type": "code",
   "execution_count": null,
   "id": "820eb21d",
   "metadata": {},
   "outputs": [],
   "source": [
    "train_size = 0.8\n",
    "len(dataset)*train_size\n",
    "\n",
    "train_ds = dataset.take(75)\n",
    "len(train_ds)\n",
    "\n",
    "test_ds = dataset.skip(75)\n",
    "len(test_ds)\n",
    "\n",
    "val_size = 0.1\n",
    "len(dataset)*val_size\n",
    "\n",
    "val_ds = test_ds.take(9)\n",
    "len(val_ds)\n",
    "\n",
    "test_ds = test_ds.skip(9)\n",
    "len(test_ds)\n",
    "\n",
    "def chunking(dataset, train_split=0.8, validation_split=0.1, test_split=0.1, shuffle=True, buffer=1000):\n",
    "    \n",
    "    dataset_length = len(dataset)\n",
    "    \n",
    "    if shuffle:\n",
    "        dataset = dataset.shuffle(buffer, seed=321)\n",
    "    \n",
    "    train_size = int(train_split*dataset_length)\n",
    "    validation_size = int(validation_split*dataset_length)\n",
    "    \n",
    "    train_ds = dataset.take(train_size)\n",
    "    val_ds = dataset.skip(train_size).take(validation_size)\n",
    "    test_ds = dataset.skip(train_size).skip(validation_size)\n",
    "    \n",
    "    return train_ds, val_ds, test_ds\n",
    "\n",
    "train_ds, val_ds, test_ds = chunking(dataset)\n",
    "\n",
    "len(train_ds), len(val_ds), len(test_ds)\n",
    "\n",
    "train_ds = train_ds.cache().shuffle(1000).prefetch(buffer_size=tf.data.AUTOTUNE)\n",
    "val_ds = val_ds.cache().shuffle(1000).prefetch(buffer_size=tf.data.AUTOTUNE)\n",
    "test_ds = test_ds.cache().shuffle(1000).prefetch(buffer_size=tf.data.AUTOTUNE)"
   ]
  },
  {
   "cell_type": "code",
   "execution_count": null,
   "id": "44f5611f",
   "metadata": {},
   "outputs": [],
   "source": [
    "data_augmentation = tf.keras.Sequential([\n",
    "    layers.experimental.preprocessing.RandomContrast(0.6),\n",
    "    layers.experimental.preprocessing.RandomFlip(\"horizontal_and_vertical\"),\n",
    "    layers.experimental.preprocessing.RandomRotation(0.3)\n",
    "])"
   ]
  },
  {
   "cell_type": "code",
   "execution_count": null,
   "id": "86b3d297",
   "metadata": {},
   "outputs": [],
   "source": [
    "resize_and_rescale = tf.keras.Sequential([\n",
    "    layers.experimental.preprocessing.Resizing(IMAGE_SIZE, IMAGE_SIZE),\n",
    "    layers.experimental.preprocessing.Rescaling(1.0/255)\n",
    "])"
   ]
  }
 ],
 "metadata": {
  "kernelspec": {
   "display_name": "Python 3 (ipykernel)",
   "language": "python",
   "name": "python3"
  },
  "language_info": {
   "codemirror_mode": {
    "name": "ipython",
    "version": 3
   },
   "file_extension": ".py",
   "mimetype": "text/x-python",
   "name": "python",
   "nbconvert_exporter": "python",
   "pygments_lexer": "ipython3",
   "version": "3.9.12"
  }
 },
 "nbformat": 4,
 "nbformat_minor": 5
}
