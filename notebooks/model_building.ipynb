{
 "cells": [
  {
   "cell_type": "markdown",
   "id": "52057293",
   "metadata": {},
   "source": [
    "# Model building"
   ]
  },
  {
   "cell_type": "markdown",
   "id": "660bc01b",
   "metadata": {},
   "source": [
    "There are several top notch deep learning frameworks that would suffice for this task; but in this case we'll be using __Tensorflow__ from __Google__.  "
   ]
  },
  {
   "cell_type": "code",
   "execution_count": 1,
   "id": "d2c778e5",
   "metadata": {},
   "outputs": [],
   "source": [
    "# Import necessary packages.\n",
    "import tensorflow as tf\n",
    "from tensorflow.keras import layers, models\n",
    "tf.get_logger().setLevel(\"ERROR\")\n",
    "\n",
    "# Important constants.\n",
    "IMAGE_SIZE = 256\n",
    "BATCH_SIZE = 32\n",
    "CHANNELS = 3\n",
    "EPOCHS = 50"
   ]
  },
  {
   "cell_type": "code",
   "execution_count": 2,
   "id": "40947161",
   "metadata": {},
   "outputs": [
    {
     "name": "stdout",
     "output_type": "stream",
     "text": [
      "Found 3000 files belonging to 2 classes.\n"
     ]
    }
   ],
   "source": [
    "# Load the dataset with the Tensorflow data pipeline.\n",
    "dataset = tf.keras.preprocessing.image_dataset_from_directory(\n",
    "    r\"C:\\Users\\ifunanyaScript\\Everything\\BrainTumour_DiagnosisApp\\data\\clean_dataset\",\n",
    "    shuffle = True,\n",
    "    image_size = (IMAGE_SIZE, IMAGE_SIZE),\n",
    "    batch_size = (BATCH_SIZE),\n",
    ")"
   ]
  },
  {
   "cell_type": "markdown",
   "id": "71d89776",
   "metadata": {},
   "source": [
    "The dataset is loaded as batches specified by the \"batch_size\" parameter. In this case, 3000 images batched into sizes of 32. Thus, 94 batches and that would be the length of the dataset."
   ]
  },
  {
   "cell_type": "code",
   "execution_count": 3,
   "id": "279a166d",
   "metadata": {},
   "outputs": [
    {
     "data": {
      "text/plain": [
       "94"
      ]
     },
     "execution_count": 3,
     "metadata": {},
     "output_type": "execute_result"
    }
   ],
   "source": [
    "len(dataset)"
   ]
  },
  {
   "cell_type": "markdown",
   "id": "a270e172",
   "metadata": {},
   "source": [
    "When one wants to train a model with a particular dataset, the normal practice is to split said dataset into separate chunks; particularly a training chunk and a testing chunk. The purpose of splitting the data is for evaluation purposes after training the model.  \n",
    "Most times, ML folks use __scikit-learn's__ ___train_test_split___. In this case, we'll use the ___take___ and ___skip___ attributes of the dataset object which allows us to grab a portion of the dataset by batches.  "
   ]
  },
  {
   "cell_type": "markdown",
   "id": "742e4c58",
   "metadata": {},
   "source": [
    "The training chunk is always a lot larger that the validation chunk and testing chunk, so that the model is trained on as much data as possible. We'll set aside for training, validation and testing; 80%, 10%, 10% respectively."
   ]
  },
  {
   "cell_type": "code",
   "execution_count": 4,
   "id": "b990e360",
   "metadata": {},
   "outputs": [
    {
     "name": "stdout",
     "output_type": "stream",
     "text": [
      "The training dataset should be 75 batches\n"
     ]
    }
   ],
   "source": [
    "train_size = 0.8\n",
    "print(f\"The training dataset should be {int(len(dataset)*train_size)} batches\")"
   ]
  },
  {
   "cell_type": "code",
   "execution_count": 5,
   "id": "82fc0912",
   "metadata": {},
   "outputs": [
    {
     "data": {
      "text/plain": [
       "75"
      ]
     },
     "execution_count": 5,
     "metadata": {},
     "output_type": "execute_result"
    }
   ],
   "source": [
    "# Takes first 75 batches of the dataset\n",
    "train_ds = dataset.take(75)\n",
    "len(train_ds)"
   ]
  },
  {
   "cell_type": "code",
   "execution_count": 6,
   "id": "9407a975",
   "metadata": {},
   "outputs": [
    {
     "data": {
      "text/plain": [
       "19"
      ]
     },
     "execution_count": 6,
     "metadata": {},
     "output_type": "execute_result"
    }
   ],
   "source": [
    "# Remaining data after the training chunk.\n",
    "remnant = dataset.skip(75)\n",
    "len(remnant)"
   ]
  },
  {
   "cell_type": "code",
   "execution_count": 7,
   "id": "d86fcdc3",
   "metadata": {},
   "outputs": [
    {
     "name": "stdout",
     "output_type": "stream",
     "text": [
      "The validation dataset should be 9 batches\n"
     ]
    }
   ],
   "source": [
    "val_size = 0.1\n",
    "print(f\"The validation dataset should be {int(len(dataset)*val_size)} batches\")"
   ]
  },
  {
   "cell_type": "code",
   "execution_count": 8,
   "id": "4e1a191a",
   "metadata": {},
   "outputs": [
    {
     "data": {
      "text/plain": [
       "9"
      ]
     },
     "execution_count": 8,
     "metadata": {},
     "output_type": "execute_result"
    }
   ],
   "source": [
    "# Takes the first 9 batch of the remaining data.\n",
    "val_ds = remnant.take(9)\n",
    "len(val_ds)"
   ]
  },
  {
   "cell_type": "code",
   "execution_count": 9,
   "id": "0554578e",
   "metadata": {},
   "outputs": [
    {
     "data": {
      "text/plain": [
       "10"
      ]
     },
     "execution_count": 9,
     "metadata": {},
     "output_type": "execute_result"
    }
   ],
   "source": [
    "# Takes all the data after the first 9 batches.\n",
    "test_ds = remnant.skip(9)\n",
    "len(test_ds)"
   ]
  },
  {
   "cell_type": "markdown",
   "id": "0f2476ba",
   "metadata": {},
   "source": [
    "All of these snippets can be wrapped in a simple function."
   ]
  },
  {
   "cell_type": "code",
   "execution_count": 10,
   "id": "c696c4e2",
   "metadata": {},
   "outputs": [],
   "source": [
    "def chunking(dataset, train_split=0.8, validation_split=0.1, test_split=0.1, shuffle=True, buffer=1000):\n",
    "    \"\"\"\n",
    "    The purpose of this function is to split a dataset into the necessary chunks and return\n",
    "    said chunks accordingly.\n",
    "    \n",
    "    A dataset is passed as an argument and the partitions are made with the predefined split sizes.\n",
    "    One can also alter the split sizes by changing the values while calling the function.\n",
    "    \"\"\"\n",
    "    \n",
    "    number_of_batches = len(dataset)\n",
    "    \n",
    "    if shuffle:\n",
    "        dataset = dataset.shuffle(buffer, seed=321)\n",
    "    \n",
    "    train_size = int(train_split*number_of_batches)\n",
    "    validation_size = int(validation_split*number_of_batches)\n",
    "    \n",
    "    train_ds = dataset.take(train_size)\n",
    "    val_ds = dataset.skip(train_size).take(validation_size)\n",
    "    test_ds = dataset.skip(train_size).skip(validation_size)\n",
    "    \n",
    "    return train_ds, val_ds, test_ds"
   ]
  },
  {
   "cell_type": "code",
   "execution_count": 11,
   "id": "d2e9aabf",
   "metadata": {},
   "outputs": [
    {
     "name": "stdout",
     "output_type": "stream",
     "text": [
      "The dataset of 94 batches was chunked as follows: \n",
      "75 batches for the Training dataset, \n",
      "9 batches for the Validation dataset and, \n",
      "10 batches for the Testing dataset.\n"
     ]
    }
   ],
   "source": [
    "train_ds, val_ds, test_ds = chunking(dataset)\n",
    "print(f\"\"\"The dataset of 94 batches was chunked as follows: \n",
    "{len(train_ds)} batches for the Training dataset, \n",
    "{len(val_ds)} batches for the Validation dataset and, \n",
    "{len(test_ds)} batches for the Testing dataset.\"\"\")"
   ]
  },
  {
   "cell_type": "code",
   "execution_count": 12,
   "id": "820eb21d",
   "metadata": {},
   "outputs": [],
   "source": [
    "train_ds = train_ds.cache().shuffle(1000).prefetch(buffer_size=tf.data.AUTOTUNE)\n",
    "val_ds = val_ds.cache().shuffle(1000).prefetch(buffer_size=tf.data.AUTOTUNE)\n",
    "test_ds = test_ds.cache().shuffle(1000).prefetch(buffer_size=tf.data.AUTOTUNE)"
   ]
  },
  {
   "cell_type": "markdown",
   "id": "3c975f9e",
   "metadata": {},
   "source": [
    "Caching is used to improve data retrieval performance by reducing the need to access underlying storage.  \n",
    "In short, the dataset is cached in memory. This reduces training time because there will be no need open files and read images during each epoch.. The next epochs will reuse the data cached by the cache transformation."
   ]
  },
  {
   "cell_type": "code",
   "execution_count": 13,
   "id": "bf29b254",
   "metadata": {},
   "outputs": [],
   "source": [
    "# Layers for data_augmentation, resizing and rescaling.\n",
    "data_augmentation = tf.keras.Sequential([\n",
    "    layers.experimental.preprocessing.RandomContrast(0.6),\n",
    "    layers.experimental.preprocessing.RandomFlip(\"horizontal_and_vertical\"),\n",
    "    layers.experimental.preprocessing.RandomRotation(0.3)\n",
    "])\n",
    "\n",
    "resize_and_rescale = tf.keras.Sequential([\n",
    "    layers.experimental.preprocessing.Resizing(IMAGE_SIZE, IMAGE_SIZE),\n",
    "    layers.experimental.preprocessing.Rescaling(1.0/255)\n",
    "])"
   ]
  },
  {
   "cell_type": "code",
   "execution_count": 14,
   "id": "e3d6c10c",
   "metadata": {},
   "outputs": [],
   "source": [
    "input_shape = (BATCH_SIZE, IMAGE_SIZE, IMAGE_SIZE, CHANNELS)\n",
    "num_classes = 2\n",
    "\n",
    "model = models.Sequential([\n",
    "    resize_and_rescale,\n",
    "    data_augmentation,\n",
    "    layers.Conv2D(32, (3, 3), activation=\"relu\", input_shape=input_shape),\n",
    "    layers.MaxPooling2D(2, 2),\n",
    "    layers.Conv2D(64, kernel_size=(3, 3), activation=\"relu\"),\n",
    "    layers.MaxPooling2D(2, 2),\n",
    "    layers.Conv2D(64, kernel_size=(3, 3), activation=\"relu\"),\n",
    "    layers.MaxPooling2D(2, 2),\n",
    "    layers.Conv2D(64, (3, 3), activation=\"relu\"),\n",
    "    layers.MaxPooling2D(2, 2),\n",
    "    layers.Conv2D(64, (3, 3), activation=\"relu\"),\n",
    "    layers.MaxPooling2D(2, 2),\n",
    "    layers.Conv2D(64, (3, 3), activation=\"relu\"),\n",
    "    layers.MaxPooling2D(2, 2),\n",
    "    layers.Flatten(),\n",
    "    layers.Dense(64, activation=\"relu\"),\n",
    "    layers.Dense(num_classes, activation=\"softmax\"),\n",
    "])\n",
    "\n",
    "model.build(input_shape=input_shape)"
   ]
  },
  {
   "cell_type": "code",
   "execution_count": 15,
   "id": "34cc8721",
   "metadata": {},
   "outputs": [
    {
     "name": "stdout",
     "output_type": "stream",
     "text": [
      "Model: \"sequential_2\"\n",
      "_________________________________________________________________\n",
      " Layer (type)                Output Shape              Param #   \n",
      "=================================================================\n",
      " sequential_1 (Sequential)   (32, 256, 256, 3)         0         \n",
      "                                                                 \n",
      " sequential (Sequential)     (None, 256, 256, 3)       0         \n",
      "                                                                 \n",
      " conv2d (Conv2D)             (None, 254, 254, 32)      896       \n",
      "                                                                 \n",
      " max_pooling2d (MaxPooling2D  (None, 127, 127, 32)     0         \n",
      " )                                                               \n",
      "                                                                 \n",
      " conv2d_1 (Conv2D)           (None, 125, 125, 64)      18496     \n",
      "                                                                 \n",
      " max_pooling2d_1 (MaxPooling  (None, 62, 62, 64)       0         \n",
      " 2D)                                                             \n",
      "                                                                 \n",
      " conv2d_2 (Conv2D)           (None, 60, 60, 64)        36928     \n",
      "                                                                 \n",
      " max_pooling2d_2 (MaxPooling  (None, 30, 30, 64)       0         \n",
      " 2D)                                                             \n",
      "                                                                 \n",
      " conv2d_3 (Conv2D)           (None, 28, 28, 64)        36928     \n",
      "                                                                 \n",
      " max_pooling2d_3 (MaxPooling  (None, 14, 14, 64)       0         \n",
      " 2D)                                                             \n",
      "                                                                 \n",
      " conv2d_4 (Conv2D)           (None, 12, 12, 64)        36928     \n",
      "                                                                 \n",
      " max_pooling2d_4 (MaxPooling  (None, 6, 6, 64)         0         \n",
      " 2D)                                                             \n",
      "                                                                 \n",
      " conv2d_5 (Conv2D)           (None, 4, 4, 64)          36928     \n",
      "                                                                 \n",
      " max_pooling2d_5 (MaxPooling  (None, 2, 2, 64)         0         \n",
      " 2D)                                                             \n",
      "                                                                 \n",
      " flatten (Flatten)           (None, 256)               0         \n",
      "                                                                 \n",
      " dense (Dense)               (None, 64)                16448     \n",
      "                                                                 \n",
      " dense_1 (Dense)             (None, 2)                 130       \n",
      "                                                                 \n",
      "=================================================================\n",
      "Total params: 183,682\n",
      "Trainable params: 183,682\n",
      "Non-trainable params: 0\n",
      "_________________________________________________________________\n"
     ]
    }
   ],
   "source": [
    "model.summary()"
   ]
  },
  {
   "cell_type": "code",
   "execution_count": 16,
   "id": "d003e3b2",
   "metadata": {},
   "outputs": [],
   "source": [
    "model.compile(\n",
    "    optimizer=\"adam\",\n",
    "    loss = tf.keras.losses.SparseCategoricalCrossentropy(from_logits=False),\n",
    "    metrics=[\"accuracy\"]\n",
    ")"
   ]
  },
  {
   "cell_type": "code",
   "execution_count": null,
   "id": "229f3590",
   "metadata": {},
   "outputs": [
    {
     "name": "stdout",
     "output_type": "stream",
     "text": [
      "Epoch 1/50\n",
      "75/75 [==============================] - 459s 5s/step - loss: 0.6310 - accuracy: 0.6334 - val_loss: 0.5899 - val_accuracy: 0.6979\n",
      "Epoch 2/50\n",
      "75/75 [==============================] - 321s 4s/step - loss: 0.5147 - accuracy: 0.7563 - val_loss: 0.5136 - val_accuracy: 0.7222\n",
      "Epoch 3/50\n",
      "75/75 [==============================] - 325s 4s/step - loss: 0.4911 - accuracy: 0.7676 - val_loss: 0.4798 - val_accuracy: 0.7396\n",
      "Epoch 4/50\n",
      "75/75 [==============================] - 331s 4s/step - loss: 0.4570 - accuracy: 0.7972 - val_loss: 0.4741 - val_accuracy: 0.7847\n",
      "Epoch 5/50\n",
      "75/75 [==============================] - 477s 6s/step - loss: 0.4193 - accuracy: 0.8194 - val_loss: 0.3857 - val_accuracy: 0.8264\n",
      "Epoch 6/50\n",
      "75/75 [==============================] - 353s 5s/step - loss: 0.3995 - accuracy: 0.8441 - val_loss: 0.4728 - val_accuracy: 0.7674\n",
      "Epoch 7/50\n",
      "75/75 [==============================] - 360s 5s/step - loss: 0.3864 - accuracy: 0.8395 - val_loss: 0.3771 - val_accuracy: 0.8229\n",
      "Epoch 8/50\n",
      "75/75 [==============================] - 362s 5s/step - loss: 0.3439 - accuracy: 0.8537 - val_loss: 0.3281 - val_accuracy: 0.8611\n",
      "Epoch 9/50\n",
      "75/75 [==============================] - 329s 4s/step - loss: 0.3441 - accuracy: 0.8608 - val_loss: 0.2858 - val_accuracy: 0.8993\n",
      "Epoch 10/50\n",
      "75/75 [==============================] - 424s 6s/step - loss: 0.3316 - accuracy: 0.8654 - val_loss: 0.3707 - val_accuracy: 0.8472\n",
      "Epoch 11/50\n",
      "36/75 [=============>................] - ETA: 2:26 - loss: 0.3023 - accuracy: 0.8811"
     ]
    }
   ],
   "source": [
    "history = model.fit(\n",
    "    train_ds,\n",
    "    epochs=EPOCHS,\n",
    "    batch_size=BATCH_SIZE,\n",
    "    verbose=1,\n",
    "    validation_data=val_ds\n",
    ")"
   ]
  },
  {
   "cell_type": "code",
   "execution_count": null,
   "id": "c4d1bb05",
   "metadata": {},
   "outputs": [],
   "source": []
  }
 ],
 "metadata": {
  "kernelspec": {
   "display_name": "Python 3 (ipykernel)",
   "language": "python",
   "name": "python3"
  },
  "language_info": {
   "codemirror_mode": {
    "name": "ipython",
    "version": 3
   },
   "file_extension": ".py",
   "mimetype": "text/x-python",
   "name": "python",
   "nbconvert_exporter": "python",
   "pygments_lexer": "ipython3",
   "version": "3.9.12"
  }
 },
 "nbformat": 4,
 "nbformat_minor": 5
}
