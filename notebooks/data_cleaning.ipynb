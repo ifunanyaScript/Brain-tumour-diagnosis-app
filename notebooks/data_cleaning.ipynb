{
 "cells": [
  {
   "cell_type": "markdown",
   "id": "fba59571",
   "metadata": {},
   "source": [
    "# Data Cleaning\n",
    "__\"Your model is only as good as the data you give it\"__ lays emphasis on why data must be at its best quality before it is used to train a model, hence, data cleaning is an important step to building a good and reliable ML model.\n",
    "Cleaning image data usually involves cropping the relevant portion of said image and discarding the irrelevant portion.   \n",
    "If you wish to procure the dataset used to work on this project you can find it [here](https://www.kaggle.com/datasets/ahmedhamada0/brain-tumor-detection)  \n",
    "__To the code!__"
   ]
  },
  {
   "cell_type": "code",
   "execution_count": 2,
   "id": "f506e163",
   "metadata": {},
   "outputs": [],
   "source": [
    "# Import necessary packages.\n",
    "%matplotlib inline\n",
    "import os\n",
    "import cv2\n",
    "import numpy as np\n",
    "import matplotlib.pyplot as plt"
   ]
  },
  {
   "cell_type": "code",
   "execution_count": 4,
   "id": "c3039314",
   "metadata": {},
   "outputs": [
    {
     "data": {
      "text/plain": [
       "(348, 287, 3)"
      ]
     },
     "execution_count": 4,
     "metadata": {},
     "output_type": "execute_result"
    }
   ],
   "source": [
    "image = cv2.imread(r\"C:/Users/ifunanyaScript/Everything/BrainTumour_DiagnosisApp/dataset/tumour/y0.jpg\")\n",
    "image.shape"
   ]
  },
  {
   "cell_type": "markdown",
   "id": "a22e49c7",
   "metadata": {},
   "source": [
    "In the above tuple, there are y and x dimensions respectively, and the third value represents the RGB colour channel. Each pixel in the image will be represented as an array of three values of RGB like so __[0, 127, 255]__, accross the entire image."
   ]
  },
  {
   "cell_type": "code",
   "execution_count": 125,
   "id": "6a3ef4c0",
   "metadata": {},
   "outputs": [],
   "source": [
    "def cropZoom(image):\n",
    "    y_nonzero, x_nonzero, _ = np.nonzero(image)\n",
    "    crop_image = image[np.min(y_nonzero):np.max(y_nonzero), np.min(x_nonzero):np.max(x_nonzero)]\n",
    "    return np.array(crop_image).astype(\"uint8\")"
   ]
  },
  {
   "cell_type": "code",
   "execution_count": 5,
   "id": "dbc6c80c",
   "metadata": {},
   "outputs": [
    {
     "data": {
      "text/plain": [
       "127.5"
      ]
     },
     "execution_count": 5,
     "metadata": {},
     "output_type": "execute_result"
    }
   ],
   "source": [
    "255/2"
   ]
  }
 ],
 "metadata": {
  "kernelspec": {
   "display_name": "Python 3 (ipykernel)",
   "language": "python",
   "name": "python3"
  },
  "language_info": {
   "codemirror_mode": {
    "name": "ipython",
    "version": 3
   },
   "file_extension": ".py",
   "mimetype": "text/x-python",
   "name": "python",
   "nbconvert_exporter": "python",
   "pygments_lexer": "ipython3",
   "version": "3.9.12"
  }
 },
 "nbformat": 4,
 "nbformat_minor": 5
}
