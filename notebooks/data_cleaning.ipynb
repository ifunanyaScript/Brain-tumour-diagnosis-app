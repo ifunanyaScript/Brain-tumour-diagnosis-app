{
 "cells": [
  {
   "cell_type": "markdown",
   "id": "716a8f23",
   "metadata": {},
   "source": [
    "# Data Cleaning\n",
    "\"Your model is only as good as the data you give it\" lays emphasis on why data must be at its best quality before it is used to train a model. \n",
    "Cleaning image data usually involves cropping the relevant portion of said image and discarding the irrelevant "
   ]
  },
  {
   "cell_type": "code",
   "execution_count": 126,
   "id": "f506e163",
   "metadata": {},
   "outputs": [],
   "source": [
    "%matplotlib inline\n",
    "import os\n",
    "import numpy as np\n",
    "import matplotlib.pyplot as plt"
   ]
  },
  {
   "cell_type": "code",
   "execution_count": null,
   "id": "c854a35e",
   "metadata": {},
   "outputs": [],
   "source": []
  },
  {
   "cell_type": "code",
   "execution_count": 125,
   "id": "c44d8300",
   "metadata": {},
   "outputs": [],
   "source": [
    "def cropZoom(image):\n",
    "    y_nonzero, x_nonzero, _ = np.nonzero(image)\n",
    "    crop_image = image[np.min(y_nonzero):np.max(y_nonzero), np.min(x_nonzero):np.max(x_nonzero)]\n",
    "    return np.array(crop_image).astype(\"uint8\")"
   ]
  },
  {
   "cell_type": "code",
   "execution_count": null,
   "id": "498f67d5",
   "metadata": {},
   "outputs": [],
   "source": []
  }
 ],
 "metadata": {
  "kernelspec": {
   "display_name": "Python 3 (ipykernel)",
   "language": "python",
   "name": "python3"
  },
  "language_info": {
   "codemirror_mode": {
    "name": "ipython",
    "version": 3
   },
   "file_extension": ".py",
   "mimetype": "text/x-python",
   "name": "python",
   "nbconvert_exporter": "python",
   "pygments_lexer": "ipython3",
   "version": "3.9.12"
  }
 },
 "nbformat": 4,
 "nbformat_minor": 5
}
